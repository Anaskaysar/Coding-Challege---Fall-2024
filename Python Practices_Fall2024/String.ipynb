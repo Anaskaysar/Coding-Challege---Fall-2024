{
 "cells": [
  {
   "cell_type": "code",
   "execution_count": 2,
   "id": "6200ffc1-1271-47c7-827f-f5db306c7e85",
   "metadata": {},
   "outputs": [],
   "source": [
    "first = \"Kaysar\"\n",
    "second = 'Bhai'"
   ]
  },
  {
   "cell_type": "code",
   "execution_count": 3,
   "id": "3f74885d-4357-4dc8-acf8-63e78b750b49",
   "metadata": {},
   "outputs": [
    {
     "data": {
      "text/plain": [
       "str"
      ]
     },
     "execution_count": 3,
     "metadata": {},
     "output_type": "execute_result"
    }
   ],
   "source": [
    "type(first)"
   ]
  },
  {
   "cell_type": "code",
   "execution_count": 4,
   "id": "cada545f-5df6-4ee7-85a0-2fe7385630a3",
   "metadata": {},
   "outputs": [
    {
     "data": {
      "text/plain": [
       "'Kaysar Bhai'"
      ]
     },
     "execution_count": 4,
     "metadata": {},
     "output_type": "execute_result"
    }
   ],
   "source": [
    "name = first + ' ' + second\n",
    "name"
   ]
  },
  {
   "cell_type": "code",
   "execution_count": 5,
   "id": "e2c30e07-a1e8-4b66-ae58-dd4c8b8cae05",
   "metadata": {},
   "outputs": [
    {
     "data": {
      "text/plain": [
       "'Kaysar Bhai is 29 years old'"
      ]
     },
     "execution_count": 5,
     "metadata": {},
     "output_type": "execute_result"
    }
   ],
   "source": [
    "age = 29\n",
    "\n",
    "info = f'{first} {second} is {age} years old'\n",
    "info"
   ]
  },
  {
   "cell_type": "code",
   "execution_count": 7,
   "id": "511deaf6-14ca-4ac9-aea9-5db2c824ed9a",
   "metadata": {},
   "outputs": [
    {
     "data": {
      "text/plain": [
       "'Hello sis I am here'"
      ]
     },
     "execution_count": 7,
     "metadata": {},
     "output_type": "execute_result"
    }
   ],
   "source": [
    "s = 'Hello bro I am here'\n",
    "s.upper()\n",
    "s.replace( 'bro' , 'sis' )\n"
   ]
  },
  {
   "cell_type": "code",
   "execution_count": 8,
   "id": "42f97624-4372-47db-b721-3f725c51c77e",
   "metadata": {},
   "outputs": [
    {
     "data": {
      "text/plain": [
       "True"
      ]
     },
     "execution_count": 8,
     "metadata": {},
     "output_type": "execute_result"
    }
   ],
   "source": [
    "file_name = 'report.pdf'\n",
    "file_name.endswith('.pdf')"
   ]
  },
  {
   "cell_type": "markdown",
   "id": "d72ac116-a5e6-4731-9129-318802452214",
   "metadata": {},
   "source": [
    "-> in python, strings are immutable, meaning they cannot be changed once created.\n",
    "-> accessing specific characters or substrings in Python using indexing and slicing name[1:5]\n",
    "-> using format function for composition of string\n",
    "-> provides built-in methods for strings such as .upper(), .lower(), .split(), .strip()"
   ]
  },
  {
   "cell_type": "code",
   "execution_count": 9,
   "id": "64bf6a91-a1ec-4cb2-a7c8-0fc876c3c83a",
   "metadata": {},
   "outputs": [
    {
     "name": "stdout",
     "output_type": "stream",
     "text": [
      "ataS\n"
     ]
    }
   ],
   "source": [
    "s = \"DataScience\"\n",
    "print(s[1:5])"
   ]
  },
  {
   "cell_type": "code",
   "execution_count": 10,
   "id": "8844ee50-370a-46b9-9c6b-f77727131c6c",
   "metadata": {},
   "outputs": [
    {
     "name": "stdout",
     "output_type": "stream",
     "text": [
      "False\n"
     ]
    }
   ],
   "source": [
    "word = \"Python\"\n",
    "print(\"PyT\" in word)"
   ]
  },
  {
   "cell_type": "code",
   "execution_count": 11,
   "id": "de07e85b-ba39-4461-a0b6-c3d1a4061b22",
   "metadata": {},
   "outputs": [
    {
     "name": "stdout",
     "output_type": "stream",
     "text": [
      "11\n"
     ]
    }
   ],
   "source": [
    "empty_string = \"AI Engineer\"\n",
    "print(len(empty_string))"
   ]
  },
  {
   "cell_type": "code",
   "execution_count": null,
   "id": "5652585a-db39-41f3-81b1-7ad00de0be9c",
   "metadata": {},
   "outputs": [],
   "source": [
    "number = 7\n",
    "str("
   ]
  }
 ],
 "metadata": {
  "kernelspec": {
   "display_name": "Python 3 (ipykernel)",
   "language": "python",
   "name": "python3"
  },
  "language_info": {
   "codemirror_mode": {
    "name": "ipython",
    "version": 3
   },
   "file_extension": ".py",
   "mimetype": "text/x-python",
   "name": "python",
   "nbconvert_exporter": "python",
   "pygments_lexer": "ipython3",
   "version": "3.11.7"
  }
 },
 "nbformat": 4,
 "nbformat_minor": 5
}
