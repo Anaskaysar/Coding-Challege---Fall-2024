{
 "cells": [
  {
   "cell_type": "code",
   "execution_count": 1,
   "id": "43319151-136d-4d88-b4aa-63af4f55ed8a",
   "metadata": {},
   "outputs": [
    {
     "data": {
      "text/plain": [
       "'beans'"
      ]
     },
     "execution_count": 1,
     "metadata": {},
     "output_type": "execute_result"
    }
   ],
   "source": [
    "can = 'beans'\n",
    "can"
   ]
  },
  {
   "cell_type": "code",
   "execution_count": 2,
   "id": "a1bb0787-0ef7-4d32-b36d-719a62407292",
   "metadata": {},
   "outputs": [
    {
     "name": "stdout",
     "output_type": "stream",
     "text": [
      "beans\n"
     ]
    }
   ],
   "source": [
    "print(can)"
   ]
  },
  {
   "cell_type": "code",
   "execution_count": 3,
   "id": "a23c1775-eafc-4948-aa9d-1277366e9c19",
   "metadata": {},
   "outputs": [
    {
     "data": {
      "text/plain": [
       "str"
      ]
     },
     "execution_count": 3,
     "metadata": {},
     "output_type": "execute_result"
    }
   ],
   "source": [
    "type(can)"
   ]
  },
  {
   "cell_type": "code",
   "execution_count": 4,
   "id": "1165c54e-3b96-4869-9122-428fc4845678",
   "metadata": {},
   "outputs": [
    {
     "data": {
      "text/plain": [
       "100"
      ]
     },
     "execution_count": 4,
     "metadata": {},
     "output_type": "execute_result"
    }
   ],
   "source": [
    "pizza = 100\n",
    "pizza"
   ]
  },
  {
   "cell_type": "code",
   "execution_count": 5,
   "id": "a333688c-ccc6-4480-91ee-346053487b68",
   "metadata": {},
   "outputs": [
    {
     "data": {
      "text/plain": [
       "int"
      ]
     },
     "execution_count": 5,
     "metadata": {},
     "output_type": "execute_result"
    }
   ],
   "source": [
    "type(pizza)"
   ]
  },
  {
   "cell_type": "code",
   "execution_count": 6,
   "id": "921bd997-dd36-4c43-9e04-80c168be1a9b",
   "metadata": {},
   "outputs": [],
   "source": [
    "samosa = 20.5\n",
    "ice_cream = 100"
   ]
  },
  {
   "cell_type": "code",
   "execution_count": 7,
   "id": "dd1d2ec0-2698-436b-8206-8be69ee58679",
   "metadata": {},
   "outputs": [
    {
     "data": {
      "text/plain": [
       "220.5"
      ]
     },
     "execution_count": 7,
     "metadata": {},
     "output_type": "execute_result"
    }
   ],
   "source": [
    "total = pizza + samosa + ice_cream\n",
    "total"
   ]
  },
  {
   "cell_type": "code",
   "execution_count": 8,
   "id": "3bb7b2c0-0d42-4e3e-8433-3da9307149c8",
   "metadata": {},
   "outputs": [
    {
     "data": {
      "text/plain": [
       "float"
      ]
     },
     "execution_count": 8,
     "metadata": {},
     "output_type": "execute_result"
    }
   ],
   "source": [
    "type(total)"
   ]
  },
  {
   "cell_type": "code",
   "execution_count": 9,
   "id": "5745a825-af00-4dc3-92f1-838384caeb1a",
   "metadata": {},
   "outputs": [
    {
     "data": {
      "text/plain": [
       "True"
      ]
     },
     "execution_count": 9,
     "metadata": {},
     "output_type": "execute_result"
    }
   ],
   "source": [
    "total > 200"
   ]
  },
  {
   "cell_type": "code",
   "execution_count": 10,
   "id": "43be2342-152a-432f-8b17-876a495481b1",
   "metadata": {},
   "outputs": [
    {
     "data": {
      "text/plain": [
       "'jalebi'"
      ]
     },
     "execution_count": 10,
     "metadata": {},
     "output_type": "execute_result"
    }
   ],
   "source": [
    "foo = 'jalebi'\n",
    "foo"
   ]
  },
  {
   "cell_type": "code",
   "execution_count": 11,
   "id": "fa77a89b-ecc1-48ed-95bb-b33e04634d07",
   "metadata": {},
   "outputs": [
    {
     "data": {
      "text/plain": [
       "'jalebi'"
      ]
     },
     "execution_count": 11,
     "metadata": {},
     "output_type": "execute_result"
    }
   ],
   "source": [
    "bar = foo\n",
    "bar"
   ]
  },
  {
   "cell_type": "code",
   "execution_count": 12,
   "id": "fa2f9aea-cdad-4802-ab92-09a1ceae0e1a",
   "metadata": {},
   "outputs": [
    {
     "data": {
      "text/plain": [
       "4405819184"
      ]
     },
     "execution_count": 12,
     "metadata": {},
     "output_type": "execute_result"
    }
   ],
   "source": [
    "id(foo)"
   ]
  },
  {
   "cell_type": "code",
   "execution_count": 13,
   "id": "eb7dbf0f-3252-4498-a441-81e5a57d8367",
   "metadata": {},
   "outputs": [
    {
     "data": {
      "text/plain": [
       "4405819184"
      ]
     },
     "execution_count": 13,
     "metadata": {},
     "output_type": "execute_result"
    }
   ],
   "source": [
    "id(bar)"
   ]
  },
  {
   "cell_type": "markdown",
   "id": "7d6b466c-c607-44fd-9166-a8ce81da61fb",
   "metadata": {},
   "source": [
    "Variables are containers that store data in a python program.\n",
    "Variables can store different types of data types such as string, integer, float, boolean."
   ]
  },
  {
   "cell_type": "markdown",
   "id": "c937d05a-1ae7-48d1-9210-8a17bfd6435b",
   "metadata": {},
   "source": [
    "Naming Conventions:\n",
    "You can not use reserve keywords as variable names (e.g def, true etc)\n",
    "variable name must start with a letter or an underscore\n",
    "it cannot contain space or speical characters (@, #, $, % etc)\n",
    "underscore is a valid character and can be represented at any variable name."
   ]
  },
  {
   "cell_type": "code",
   "execution_count": null,
   "id": "4f636511-246b-4b70-a32b-2b2b2e438600",
   "metadata": {},
   "outputs": [],
   "source": []
  }
 ],
 "metadata": {
  "kernelspec": {
   "display_name": "Python 3 (ipykernel)",
   "language": "python",
   "name": "python3"
  },
  "language_info": {
   "codemirror_mode": {
    "name": "ipython",
    "version": 3
   },
   "file_extension": ".py",
   "mimetype": "text/x-python",
   "name": "python",
   "nbconvert_exporter": "python",
   "pygments_lexer": "ipython3",
   "version": "3.10.14"
  }
 },
 "nbformat": 4,
 "nbformat_minor": 5
}
